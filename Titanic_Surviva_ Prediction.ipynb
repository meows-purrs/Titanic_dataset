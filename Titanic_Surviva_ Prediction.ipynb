{
 "cells": [
  {
   "cell_type": "code",
   "execution_count": 43,
   "id": "b9620c2e-a87b-40db-8c12-0854a1970cd4",
   "metadata": {},
   "outputs": [],
   "source": [
    "# [IMPORTS]\n",
    "import numpy as np\n",
    "import pandas as pd\n",
    "from sklearn.model_selection import train_test_split, GridSearchCV\n",
    "from sklearn.preprocessing import MinMaxScaler\n",
    "from xgboost import XGBClassifier\n",
    "from sklearn.metrics import f1_score, accuracy_score"
   ]
  },
  {
   "cell_type": "code",
   "execution_count": 44,
   "id": "38a9f2d8-7b19-4407-9aec-c4f4c43e54df",
   "metadata": {},
   "outputs": [],
   "source": [
    "# [DATA_LOADING]\n",
    "data = pd.read_csv(\"C:\\\\Users\\\\shash\\\\Downloads\\\\titanic\\\\train.csv\")"
   ]
  },
  {
   "cell_type": "code",
   "execution_count": 45,
   "id": "286113cf-c718-40c3-8f52-d2f9d30307df",
   "metadata": {},
   "outputs": [],
   "source": [
    "# [INITIAL_CLEANUP]\n",
    "# Remove unnecessary columns\n",
    "data.drop([\"Name\", \"Ticket\", \"Cabin\", \"Embarked\"], axis=1, inplace=True)\n",
    "data.set_index('PassengerId', inplace=True)"
   ]
  },
  {
   "cell_type": "code",
   "execution_count": 46,
   "id": "167d666f-9ce5-41c1-b276-e9582f4ffaf3",
   "metadata": {},
   "outputs": [],
   "source": [
    "# [FEATURE_ENGINEERING]\n",
    "# Add family size feature\n",
    "data['FamilySize'] = data['SibSp'] + data['Parch'] + 1\n",
    "\n",
    "# Improved Age imputation using passenger class medians\n",
    "data['Age'] = data.groupby('Pclass')['Age'].transform(lambda x: x.fillna(x.median()))\n",
    "\n",
    "# Fill missing fare values with the median\n",
    "data['Fare'].fillna(data['Fare'].median(), inplace=True)"
   ]
  },
  {
   "cell_type": "code",
   "execution_count": 47,
   "id": "bb5fb1cb-40ae-4ba9-b7fd-cd4cd009015b",
   "metadata": {},
   "outputs": [],
   "source": [
    "# [CATEGORICAL_ENCODING]\n",
    "# Convert Sex to numeric\n",
    "data[\"Sex\"] = data[\"Sex\"].map({'male': 1, 'female': 0})"
   ]
  },
  {
   "cell_type": "code",
   "execution_count": 48,
   "id": "318961de-fadb-4628-a15e-6e5d0f621ec0",
   "metadata": {},
   "outputs": [],
   "source": [
    "# [FEATURE_SELECTION]\n",
    "# Prepare features and target\n",
    "X = data.drop(\"Survived\", axis=1)\n",
    "y = data[\"Survived\"]\n",
    "\n",
    "# One-hot encode 'Pclass' (Passenger class)\n",
    "X = pd.get_dummies(X, columns=['Pclass'], drop_first=True)"
   ]
  },
  {
   "cell_type": "code",
   "execution_count": 52,
   "id": "7785f7bb-b26f-46d4-9d23-a5e0b044f053",
   "metadata": {},
   "outputs": [],
   "source": [
    "# [SCALING]\n",
    "# Scale the features\n",
    "scaler = MinMaxScaler()\n",
    "X_scaled = scaler.fit_transform(X)"
   ]
  },
  {
   "cell_type": "code",
   "execution_count": 51,
   "id": "f8b9409b-ff1d-4934-ab77-383d2f973d68",
   "metadata": {},
   "outputs": [],
   "source": [
    "# [TRAIN_TEST_SPLIT]\n",
    "# Split into training and testing sets\n",
    "X_train, X_test, y_train, y_test = train_test_split(X_scaled, y, train_size=0.7, random_state=42)"
   ]
  },
  {
   "cell_type": "code",
   "execution_count": 53,
   "id": "19eec482-765b-40a2-8c7c-949098478df1",
   "metadata": {},
   "outputs": [
    {
     "name": "stdout",
     "output_type": "stream",
     "text": [
      "Fitting 5 folds for each of 432 candidates, totalling 2160 fits\n"
     ]
    }
   ],
   "source": [
    "# [HYPERPARAMETER_TUNING]\n",
    "# Set up the model and grid search for XGBoost\n",
    "model = XGBClassifier(eval_metric='logloss', random_state=42)\n",
    "\n",
    "# Define the parameter grid\n",
    "param_grid = {\n",
    "    'n_estimators': [100, 200],\n",
    "    'max_depth': [3, 5, 7, 10],\n",
    "    'learning_rate': [0.01, 0.05, 0.1],\n",
    "    'subsample': [0.7, 0.8, 1.0],\n",
    "    'colsample_bytree': [0.7, 0.8, 1.0],\n",
    "    'scale_pos_weight': [1, 2]  # Handle class imbalance\n",
    "}\n",
    "\n",
    "grid_search = GridSearchCV(estimator=model, param_grid=param_grid,\n",
    "                           scoring='f1', cv=5, verbose=1, n_jobs=-1)\n",
    "\n",
    "# Fit the model\n",
    "grid_search.fit(X_train, y_train)\n",
    "\n",
    "# Get the best model\n",
    "best_model = grid_search.best_estimator_"
   ]
  },
  {
   "cell_type": "code",
   "execution_count": 54,
   "id": "79c4f991-f79b-46ef-a67a-594e459e3e40",
   "metadata": {},
   "outputs": [
    {
     "name": "stdout",
     "output_type": "stream",
     "text": [
      "Model Accuracy: 0.8246\n",
      "Model F1 Score: 0.7685\n"
     ]
    }
   ],
   "source": [
    "# [MODEL_EVALUATION]\n",
    "# Make predictions\n",
    "y_pred = best_model.predict(X_test)\n",
    "\n",
    "# Calculate metrics\n",
    "accuracy = accuracy_score(y_test, y_pred)\n",
    "f1 = f1_score(y_test, y_pred)\n",
    "\n",
    "print(f\"Model Accuracy: {accuracy:.4f}\")\n",
    "print(f\"Model F1 Score: {f1:.4f}\")"
   ]
  },
  {
   "cell_type": "code",
   "execution_count": 55,
   "id": "57bf2532-e6e4-4812-bbdc-bde9f9fda63a",
   "metadata": {},
   "outputs": [
    {
     "name": "stdout",
     "output_type": "stream",
     "text": [
      "\n",
      "Feature Importance:\n",
      "      Feature  Importance\n",
      "0         Sex    0.530948\n",
      "7    Pclass_3    0.185318\n",
      "4        Fare    0.053261\n",
      "5  FamilySize    0.051526\n",
      "6    Pclass_2    0.049000\n",
      "3       Parch    0.047180\n",
      "1         Age    0.046562\n",
      "2       SibSp    0.036205\n"
     ]
    }
   ],
   "source": [
    "# [FEATURE_IMPORTANCE]\n",
    "# Display feature importance for XGBoost\n",
    "feature_importance = pd.DataFrame({\n",
    "    'Feature': X.columns,\n",
    "    'Importance': best_model.feature_importances_\n",
    "})\n",
    "print(\"\\nFeature Importance:\")\n",
    "print(feature_importance.sort_values('Importance', ascending=False))"
   ]
  },
  {
   "cell_type": "code",
   "execution_count": null,
   "id": "12f92e32-7e7d-4b57-9e43-35b067ab7e76",
   "metadata": {},
   "outputs": [],
   "source": []
  }
 ],
 "metadata": {
  "kernelspec": {
   "display_name": "Python 3 (ipykernel)",
   "language": "python",
   "name": "python3"
  },
  "language_info": {
   "codemirror_mode": {
    "name": "ipython",
    "version": 3
   },
   "file_extension": ".py",
   "mimetype": "text/x-python",
   "name": "python",
   "nbconvert_exporter": "python",
   "pygments_lexer": "ipython3",
   "version": "3.12.3"
  }
 },
 "nbformat": 4,
 "nbformat_minor": 5
}
